{
 "cells": [
  {
   "cell_type": "code",
   "execution_count": 69,
   "metadata": {
    "pycharm": {
     "name": "#%%\n"
    }
   },
   "outputs": [],
   "source": [
    "def subsample_labels(df, labels):\n",
    "    return df.loc[df['label'].isin(labels)]"
   ]
  },
  {
   "cell_type": "code",
   "execution_count": 119,
   "metadata": {},
   "outputs": [],
   "source": [
    "def remove_au_features(df, au_list):\n",
    "    for au in au_list:\n",
    "        df.drop([f'AU{au}_std', f'AU{au}_mean', f'AU{au}_e0_length', f'AU{au}_e1_length', f'AU{au}_e2_length',\n",
    "                f'AU{au}_e0_amount', f'AU{au}_e1_amount', f'AU{au}_e2_amount',\n",
    "                f'AU{au}_e0_intensity', f'AU{au}_e1_intensity', f'AU{au}_e2_intensity'], axis=1, inplace=True)\n"
   ]
  },
  {
   "cell_type": "code",
   "execution_count": 70,
   "metadata": {},
   "outputs": [],
   "source": [
    "def over_sample(df, label_='happy', amount=95):\n",
    "    df_happy = df[df.label == label_]\n",
    "    df_happy = resample(df_happy,\n",
    "                        replace=True,     # sample with replacement\n",
    "                        n_samples=95,    # to match majority class\n",
    "                        random_state=42) # reproducible results\n",
    "\n",
    "    return pd.concat([df, df_happy])"
   ]
  },
  {
   "cell_type": "code",
   "execution_count": 120,
   "metadata": {
    "pycharm": {
     "name": "#%%\n"
    }
   },
   "outputs": [
    {
     "data": {
      "text/plain": [
       "380"
      ]
     },
     "execution_count": 120,
     "metadata": {},
     "output_type": "execute_result"
    }
   ],
   "source": [
    "import pandas as pd\n",
    "import matplotlib.pyplot as plt\n",
    "from sklearn.datasets import make_classification\n",
    "from sklearn.metrics import confusion_matrix, ConfusionMatrixDisplay\n",
    "from sklearn.model_selection import train_test_split\n",
    "from sklearn.metrics import classification_report\n",
    "from sklearn.metrics import f1_score\n",
    "from sklearn.metrics import precision_score\n",
    "from sklearn.utils import resample\n",
    "\n",
    "\n",
    "\n",
    "df = pd.read_csv('results/feature_vector.csv', index_col=0)\n",
    "# df = df[df['group'] == 'coda_speak'] #'hearing', 'C', D\n",
    "\n",
    "df = df.replace('coda_speak', 'speaking')\n",
    "df = df.replace('hear', 'speaking')\n",
    "df = df.replace('coda_sign', 'signing')\n",
    "df = df.replace('deaf', 'signing')\n",
    "\n",
    "# df = df.replace('angry', 'angry_sad')\n",
    "# df = df.replace('sad', 'angry_sad')\n",
    "\n",
    "\n",
    "#Over sample\n",
    "# df = over_sample(df, 'happy', 95)\n",
    "# df = over_sample(df, 'neutral', 95)\n",
    "\n",
    "\n",
    "# label_names = ['angry', 'happy'] #['angry','happy', 'neutral', 'sad'] #['neutral', 'angry']\n",
    "# df = subsample_labels(df, label_names)\n",
    "\n",
    "# df = df[df['group'] == 'signing']\n",
    "\n",
    "remove_au_features(df, ['10','12','15','17'])\n",
    "\n",
    "# labels = df['label']\n",
    "labels = df['group']\n",
    "group = df['group']\n",
    "df.drop(['label', 'group'], axis=1, inplace=True)\n",
    "len(labels)"
   ]
  },
  {
   "cell_type": "code",
   "execution_count": 121,
   "metadata": {},
   "outputs": [
    {
     "data": {
      "text/plain": [
       "77"
      ]
     },
     "execution_count": 121,
     "metadata": {},
     "output_type": "execute_result"
    }
   ],
   "source": [
    "len(list(df.columns))"
   ]
  },
  {
   "cell_type": "code",
   "execution_count": 122,
   "metadata": {
    "pycharm": {
     "name": "#%%\n"
    }
   },
   "outputs": [
    {
     "data": {
      "text/plain": [
       "speaking    280\n",
       "signing     100\n",
       "Name: group, dtype: int64"
      ]
     },
     "execution_count": 122,
     "metadata": {},
     "output_type": "execute_result"
    }
   ],
   "source": [
    "# pd.unique(labels)\n",
    "labels.value_counts()"
   ]
  },
  {
   "cell_type": "code",
   "execution_count": 123,
   "metadata": {
    "pycharm": {
     "name": "#%%\n"
    }
   },
   "outputs": [],
   "source": [
    "X_train, X_test, y_train, y_test = train_test_split(df, labels, random_state=0, test_size=0.3, stratify=labels)"
   ]
  },
  {
   "cell_type": "code",
   "execution_count": 124,
   "metadata": {
    "pycharm": {
     "name": "#%%\n"
    }
   },
   "outputs": [
    {
     "name": "stdout",
     "output_type": "stream",
     "text": [
      "[0.94736842 0.94736842 0.71052632 0.78947368 0.92105263 0.97368421\n",
      " 0.92105263 0.89473684 1.         0.97368421]\n",
      "0.9078947368421051\n"
     ]
    }
   ],
   "source": [
    "from sklearn.model_selection import cross_val_score\n",
    "from sklearn.tree import DecisionTreeClassifier\n",
    "from sklearn.ensemble import RandomForestClassifier\n",
    "import numpy as np\n",
    "\n",
    "clf = RandomForestClassifier(criterion='entropy')\n",
    "cv_scores = cross_val_score(clf, df, labels, cv=10)\n",
    "\n",
    "print(cv_scores)\n",
    "print(np.mean(cv_scores))"
   ]
  },
  {
   "cell_type": "code",
   "execution_count": 126,
   "metadata": {
    "pycharm": {
     "name": "#%%\n"
    }
   },
   "outputs": [
    {
     "data": {
      "image/png": "[encoded data removed]",
      "text/plain": [
       "<Figure size 432x288 with 1 Axes>"
      ]
     },
     "metadata": {
      "needs_background": "light"
     },
     "output_type": "display_data"
    },
    {
     "data": {
      "text/plain": [
       "77"
      ]
     },
     "execution_count": 126,
     "metadata": {},
     "output_type": "execute_result"
    }
   ],
   "source": [
    "import matplotlib.pyplot as plt\n",
    "import seaborn as sns\n",
    "%matplotlib inline\n",
    "\n",
    "clf = RandomForestClassifier(criterion='entropy')\n",
    "clf.fit(df, labels)\n",
    "feature_imp = pd.Series(clf.feature_importances_,index=df.columns.tolist()).sort_values(ascending=False)\n",
    "\n",
    "def plot_importance(clf):\n",
    "    clf.fit(df, labels)\n",
    "    feature_imp_ = pd.Series(clf.feature_importances_,index=df.columns.tolist()).sort_values(ascending=False)\n",
    "    feature_imp_ = feature_imp_[0:5]\n",
    "\n",
    "\n",
    "    sns.barplot(x=feature_imp_, y=feature_imp_.index)\n",
    "    plt.xlabel('Feature Importance Score')\n",
    "    plt.ylabel('Features')\n",
    "    plt.title(\"Feature Importance Score\")\n",
    "    # plt.title(\"Hearing - Vs. None hearing\")\n",
    "#     plt.legend()\n",
    "    plt.show()\n",
    "\n",
    "plot_importance(clf)\n",
    "len(feature_imp)"
   ]
  },
  {
   "cell_type": "code",
   "execution_count": 130,
   "metadata": {
    "pycharm": {
     "name": "#%%\n"
    }
   },
   "outputs": [
    {
     "name": "stdout",
     "output_type": "stream",
     "text": [
      "              precision    recall  f1-score   support\n",
      "\n",
      "     signing       0.96      0.73      0.83        30\n",
      "    speaking       0.91      0.99      0.95        84\n",
      "\n",
      "    accuracy                           0.92       114\n",
      "   macro avg       0.93      0.86      0.89       114\n",
      "weighted avg       0.92      0.92      0.92       114\n",
      "\n",
      "f1: 0.8893800539083558\n",
      "prec: 0.9343048256091735\n",
      "max_depth: 5\n"
     ]
    },
    {
     "data": {
      "image/png": "[encoded data removed]",
      "text/plain": [
       "<Figure size 432x288 with 2 Axes>"
      ]
     },
     "metadata": {
      "needs_background": "light"
     },
     "output_type": "display_data"
    },
    {
     "data": {
      "image/png": "[encoded data removed]",
      "text/plain": [
       "<Figure size 432x288 with 1 Axes>"
      ]
     },
     "metadata": {
      "needs_background": "light"
     },
     "output_type": "display_data"
    }
   ],
   "source": [
    "# xtrain = X_train[feature_imp[0:200].index.to_list()]\n",
    "# xtest = X_test[feature_imp[0:200].index.to_list()]\n",
    "\n",
    "xtrain = X_train\n",
    "xtest = X_test\n",
    "\n",
    "md = 5\n",
    "clf = RandomForestClassifier(criterion='entropy', max_depth=md)\n",
    "clf.fit(xtrain, y_train)\n",
    "\n",
    "y_pred = clf.predict(xtest)\n",
    "print(classification_report(y_test, y_pred, labels=clf.classes_))\n",
    "f1_ = f1_score(y_test, y_pred, average='macro')\n",
    "prec = precision_score(y_test, y_pred, average='macro')\n",
    "print(f'f1: {f1_}')\n",
    "print(f'prec: {prec}')\n",
    "\n",
    "cm = confusion_matrix(y_test, y_pred, labels=clf.classes_, normalize='true')\n",
    "disp = ConfusionMatrixDisplay(confusion_matrix=cm, display_labels=clf.classes_)\n",
    "disp.plot()\n",
    "plt.figure()\n",
    "print('max_depth:', md)\n",
    "plot_importance(clf)\n"
   ]
  },
  {
   "cell_type": "code",
   "execution_count": 134,
   "metadata": {
    "pycharm": {
     "name": "#%%\n"
    }
   },
   "outputs": [
    {
     "name": "stdout",
     "output_type": "stream",
     "text": [
      "              precision    recall  f1-score   support\n",
      "\n",
      "     signing       1.00      0.85      0.92       100\n",
      "    speaking       0.95      1.00      0.97       280\n",
      "\n",
      "    accuracy                           0.96       380\n",
      "   macro avg       0.97      0.93      0.95       380\n",
      "weighted avg       0.96      0.96      0.96       380\n",
      "\n",
      "f1: 0.9464159811985898\n",
      "prec: 0.9745762711864407\n",
      "max_depth: 5\n"
     ]
    },
    {
     "data": {
      "image/png": "[encoded data removed]",
      "text/plain": [
       "<Figure size 432x288 with 2 Axes>"
      ]
     },
     "metadata": {
      "needs_background": "light"
     },
     "output_type": "display_data"
    },
    {
     "data": {
      "image/png": "[encoded data removed]",
      "text/plain": [
       "<Figure size 432x288 with 1 Axes>"
      ]
     },
     "metadata": {
      "needs_background": "light"
     },
     "output_type": "display_data"
    }
   ],
   "source": [
    "# overfit \n",
    "md = 5\n",
    "clf = RandomForestClassifier(criterion='entropy', max_depth=md)\n",
    "clf.fit(df, labels)\n",
    "\n",
    "y_pred = clf.predict(df)\n",
    "print(classification_report(labels, y_pred, labels=clf.classes_))\n",
    "f1_ = f1_score(labels, y_pred, average='macro')\n",
    "prec = precision_score(labels, y_pred, average='macro')\n",
    "print(f'f1: {f1_}')\n",
    "print(f'prec: {prec}')\n",
    "\n",
    "cm = confusion_matrix(labels, y_pred, labels=clf.classes_, normalize='true')\n",
    "disp = ConfusionMatrixDisplay(confusion_matrix=cm, display_labels=clf.classes_)\n",
    "disp.plot()\n",
    "plt.figure()\n",
    "print('max_depth:', md)\n",
    "plot_importance(clf)"
   ]
  },
  {
   "cell_type": "code",
   "execution_count": 7,
   "metadata": {
    "pycharm": {
     "name": "#%%\n"
    }
   },
   "outputs": [
    {
     "name": "stderr",
     "output_type": "stream",
     "text": [
      "100%|██████████████████████████████████████████████████████████████████████████████████████████████████████████████████████████████████████████████████████████████████████████████████████████████████████████████████| 25/25 [01:05<00:00,  2.63s/it]"
     ]
    },
    {
     "name": "stdout",
     "output_type": "stream",
     "text": [
      "features: 53 cv: 0.8763157894736843 \n"
     ]
    },
    {
     "name": "stderr",
     "output_type": "stream",
     "text": [
      "\n"
     ]
    },
    {
     "data": {
      "image/png": "[encoded data removed]",
      "text/plain": [
       "<Figure size 432x288 with 1 Axes>"
      ]
     },
     "metadata": {
      "needs_background": "light"
     },
     "output_type": "display_data"
    }
   ],
   "source": [
    "# cv score average per feature on the x -axis\n",
    "from tqdm import tqdm\n",
    "cv_aver = []\n",
    "fe_range = np.linspace(5, 121, 25).astype(int)\n",
    "for num_features in tqdm(fe_range):\n",
    "    df_ = df[feature_imp[0:num_features].index.to_list()]\n",
    "    clf = RandomForestClassifier(criterion='entropy', max_depth=11)\n",
    "    cv_scores = cross_val_score(clf, df_, labels, cv=10)\n",
    "    cv_aver.append(np.mean(cv_scores))\n",
    "\n",
    "plt.plot(fe_range, cv_aver, label='CV')\n",
    "plt.xlabel('Num of features')\n",
    "plt.ylabel('Score')\n",
    "plt.title('CV Score - average of 10 fold')\n",
    "plt.legend()\n",
    "\n",
    "\n",
    "max_idx = np.argmax(cv_aver)\n",
    "features_max = fe_range[max_idx]\n",
    "print(f'features: {features_max} cv: {cv_aver[max_idx]} ')"
   ]
  },
  {
   "cell_type": "code",
   "execution_count": null,
   "metadata": {
    "pycharm": {
     "name": "#%%\n"
    }
   },
   "outputs": [],
   "source": [
    "import matplotlib.pyplot as plt\n",
    "from sklearn import tree\n",
    "clf = DecisionTreeClassifier(random_state=0, criterion='entropy', max_depth=3)\n",
    "clf.fit(df, y)\n",
    "\n",
    "\n",
    "fig = plt.figure(figsize=(30,25), dpi=300)\n",
    "tree.plot_tree(clf, filled=True, fontsize = 18, feature_names = df.columns.tolist(), class_names=label_names)\n",
    "# plt.savefig('out.jpeg')\n"
   ]
  },
  {
   "cell_type": "code",
   "execution_count": null,
   "metadata": {
    "pycharm": {
     "name": "#%%\n"
    }
   },
   "outputs": [],
   "source": []
  },
  {
   "cell_type": "code",
   "execution_count": null,
   "metadata": {
    "pycharm": {
     "name": "#%%\n"
    }
   },
   "outputs": [],
   "source": [
    "import matplotlib.pyplot as plt\n",
    "from sklearn import tree\n",
    "# clf = DecisionTreeClassifier(random_state=0, criterion='entropy', max_depth=3)\n",
    "# clf.fit(df, labels)\n",
    "\n",
    "fig = plt.figure(figsize=(30,25), dpi=300)\n",
    "tree.plot_tree(clf.estimators_[0], filled=True, fontsize = 18, feature_names = df.columns.tolist(), class_names=label_names)\n",
    "# plt.savefig('out.jpeg')\n"
   ]
  },
  {
   "cell_type": "code",
   "execution_count": null,
   "metadata": {
    "pycharm": {
     "name": "#%%\n"
    },
    "scrolled": false
   },
   "outputs": [],
   "source": [
    "import matplotlib.pyplot as plt\n",
    "from sklearn import tree\n",
    "# clf = DecisionTreeClassifier(random_state=0, criterion='entropy', max_depth=3)\n",
    "# clf.fit(df, labels)\n",
    "\n",
    "fig = plt.figure(figsize=(30,25), dpi=300)\n",
    "tree.plot_tree(clf.estimators_[0], filled=True, fontsize = 18, feature_names = df.columns.tolist(), class_names=label_names)\n",
    "# plt.savefig('out.jpeg')\n"
   ]
  }
 ],
 "metadata": {
  "kernelspec": {
   "display_name": "Python 3 (ipykernel)",
   "language": "python",
   "name": "python3"
  },
  "language_info": {
   "codemirror_mode": {
    "name": "ipython",
    "version": 3
   },
   "file_extension": ".py",
   "mimetype": "text/x-python",
   "name": "python",
   "nbconvert_exporter": "python",
   "pygments_lexer": "ipython3",
   "version": "3.7.9"
  }
 },
 "nbformat": 4,
 "nbformat_minor": 1
}
