{
 "cells": [
  {
   "cell_type": "code",
   "execution_count": 1,
   "metadata": {
    "pycharm": {
     "name": "#%%\n"
    }
   },
   "outputs": [],
   "source": [
    "def subsample_labels(df, labels):\n",
    "    return df.loc[df['label'].isin(labels)]"
   ]
  },
  {
   "cell_type": "code",
   "execution_count": null,
   "outputs": [],
   "source": [
    "import pandas as pd\n",
    "import matplotlib.pyplot as plt\n",
    "from sklearn.datasets import make_classification\n",
    "from sklearn.metrics import confusion_matrix, ConfusionMatrixDisplay\n",
    "from sklearn.model_selection import train_test_split\n",
    "from sklearn.metrics import classification_report\n",
    "from sklearn.metrics import f1_score\n",
    "from sklearn.metrics import precision_score\n",
    "\n",
    "\n",
    "df = pd.read_csv('results/feature_vector.csv', index_col=0)\n",
    "# df = df[df['group'] == 'coda_speak'] #'hearing', 'C', D\n",
    "df = df.replace('coda_speak', 'coda')\n",
    "df = df.replace('coda_sign', 'coda')\n",
    "\n",
    "label_names = ['angry','happy', 'neutral', 'sad'] #['neutral', 'angry']\n",
    "# df = subsample_labels(df, label_names)\n",
    "\n",
    "# labels = df['label']\n",
    "labels = df['group']\n",
    "group = df['group']\n",
    "df.drop(['label', 'group'], axis=1, inplace=True)\n",
    "len(labels)"
   ],
   "metadata": {
    "collapsed": false,
    "pycharm": {
     "name": "#%%\n"
    }
   }
  },
  {
   "cell_type": "code",
   "execution_count": null,
   "outputs": [],
   "source": [
    "pd.unique(group)"
   ],
   "metadata": {
    "collapsed": false,
    "pycharm": {
     "name": "#%%\n"
    }
   }
  },
  {
   "cell_type": "code",
   "execution_count": null,
   "outputs": [],
   "source": [
    "X_train, X_test, y_train, y_test = train_test_split(df, labels, random_state=0, test_size=0.3, stratify=labels)"
   ],
   "metadata": {
    "collapsed": false,
    "pycharm": {
     "name": "#%%\n"
    }
   }
  },
  {
   "cell_type": "code",
   "execution_count": null,
   "outputs": [],
   "source": [
    "from sklearn.model_selection import cross_val_score\n",
    "from sklearn.tree import DecisionTreeClassifier\n",
    "from sklearn.ensemble import RandomForestClassifier\n",
    "import numpy as np\n",
    "\n",
    "clf = RandomForestClassifier(criterion='entropy')\n",
    "cv_scores = cross_val_score(clf, df, labels, cv=10)\n",
    "\n",
    "print(cv_scores)\n",
    "print(np.mean(cv_scores))"
   ],
   "metadata": {
    "collapsed": false,
    "pycharm": {
     "name": "#%%\n"
    }
   }
  },
  {
   "cell_type": "code",
   "execution_count": null,
   "outputs": [],
   "source": [
    "import matplotlib.pyplot as plt\n",
    "import seaborn as sns\n",
    "%matplotlib inline\n",
    "\n",
    "clf = RandomForestClassifier(criterion='entropy')\n",
    "clf.fit(df, labels)\n",
    "feature_imp = pd.Series(clf.feature_importances_,index=df.columns.tolist()).sort_values(ascending=False)\n",
    "\n",
    "def plot_importance(clf):\n",
    "    clf.fit(df, labels)\n",
    "    feature_imp_ = pd.Series(clf.feature_importances_,index=df.columns.tolist()).sort_values(ascending=False)\n",
    "    feature_imp_ = feature_imp_[0:5]\n",
    "\n",
    "\n",
    "    sns.barplot(x=feature_imp_, y=feature_imp_.index)\n",
    "    plt.xlabel('Feature Importance Score')\n",
    "    plt.ylabel('Features')\n",
    "    plt.title(\"Feature Importance Score\")\n",
    "    # plt.title(\"Hearing - Vs. None hearing\")\n",
    "#     plt.legend()\n",
    "    plt.show()\n",
    "\n",
    "plot_importance(clf)\n",
    "len(feature_imp)"
   ],
   "metadata": {
    "collapsed": false,
    "pycharm": {
     "name": "#%%\n"
    }
   }
  },
  {
   "cell_type": "code",
   "execution_count": null,
   "outputs": [],
   "source": [
    "xtrain = X_train[feature_imp[0:200].index.to_list()]\n",
    "xtest = X_test[feature_imp[0:200].index.to_list()]\n",
    "\n",
    "md = 7\n",
    "clf = RandomForestClassifier(criterion='entropy', max_depth=md)\n",
    "clf.fit(xtrain, y_train)\n",
    "\n",
    "y_pred = clf.predict(xtest)\n",
    "print(classification_report(y_test, y_pred, labels=clf.classes_))\n",
    "f1_ = f1_score(y_test, y_pred, average='macro')\n",
    "prec = precision_score(y_test, y_pred, average='macro')\n",
    "print(f'f1: {f1_}')\n",
    "print(f'prec: {prec}')\n",
    "\n",
    "cm = confusion_matrix(y_test, y_pred, labels=clf.classes_, normalize='true')\n",
    "disp = ConfusionMatrixDisplay(confusion_matrix=cm, display_labels=clf.classes_)\n",
    "disp.plot()\n",
    "plt.figure()\n",
    "print('max_depth:', md)\n",
    "plot_importance(clf)\n"
   ],
   "metadata": {
    "collapsed": false,
    "pycharm": {
     "name": "#%%\n"
    }
   }
  },
  {
   "cell_type": "code",
   "execution_count": null,
   "outputs": [],
   "source": [
    "# overfit \n",
    "md = 11\n",
    "clf = RandomForestClassifier(criterion='entropy', max_depth=md)\n",
    "clf.fit(df, labels)\n",
    "\n",
    "y_pred = clf.predict(df)\n",
    "print(classification_report(labels, y_pred, labels=clf.classes_))\n",
    "f1_ = f1_score(labels, y_pred, average='macro')\n",
    "prec = precision_score(labels, y_pred, average='macro')\n",
    "print(f'f1: {f1_}')\n",
    "print(f'prec: {prec}')\n",
    "\n",
    "cm = confusion_matrix(labels, y_pred, labels=clf.classes_, normalize='true')\n",
    "disp = ConfusionMatrixDisplay(confusion_matrix=cm, display_labels=clf.classes_)\n",
    "disp.plot()\n",
    "plt.figure()\n",
    "print('max_depth:', md)\n",
    "plot_importance(clf)"
   ],
   "metadata": {
    "collapsed": false,
    "pycharm": {
     "name": "#%%\n"
    }
   }
  },
  {
   "cell_type": "code",
   "execution_count": 7,
   "metadata": {
    "pycharm": {
     "name": "#%%\n"
    }
   },
   "outputs": [
    {
     "name": "stderr",
     "output_type": "stream",
     "text": [
      "100%|██████████████████████████████████████████████████████████████████████████████████████████████████████████████████████████████████████████████████████████████████████████████████████████████████████████████████| 25/25 [01:05<00:00,  2.63s/it]"
     ]
    },
    {
     "name": "stdout",
     "output_type": "stream",
     "text": [
      "features: 53 cv: 0.8763157894736843 \n"
     ]
    },
    {
     "name": "stderr",
     "output_type": "stream",
     "text": [
      "\n"
     ]
    },
    {
     "data": {
      "image/png": "[encoded data removed]",
      "text/plain": [
       "<Figure size 432x288 with 1 Axes>"
      ]
     },
     "metadata": {
      "needs_background": "light"
     },
     "output_type": "display_data"
    }
   ],
   "source": [
    "# cv score average per feature on the x -axis\n",
    "from tqdm import tqdm\n",
    "cv_aver = []\n",
    "fe_range = np.linspace(5, 121, 25).astype(int)\n",
    "for num_features in tqdm(fe_range):\n",
    "    df_ = df[feature_imp[0:num_features].index.to_list()]\n",
    "    clf = RandomForestClassifier(criterion='entropy', max_depth=11)\n",
    "    cv_scores = cross_val_score(clf, df_, labels, cv=10)\n",
    "    cv_aver.append(np.mean(cv_scores))\n",
    "\n",
    "plt.plot(fe_range, cv_aver, label='CV')\n",
    "plt.xlabel('Num of features')\n",
    "plt.ylabel('Score')\n",
    "plt.title('CV Score - average of 10 fold')\n",
    "plt.legend()\n",
    "\n",
    "\n",
    "max_idx = np.argmax(cv_aver)\n",
    "features_max = fe_range[max_idx]\n",
    "print(f'features: {features_max} cv: {cv_aver[max_idx]} ')"
   ]
  },
  {
   "cell_type": "code",
   "execution_count": null,
   "metadata": {
    "pycharm": {
     "name": "#%%\n"
    }
   },
   "outputs": [],
   "source": [
    "import matplotlib.pyplot as plt\n",
    "from sklearn import tree\n",
    "clf = DecisionTreeClassifier(random_state=0, criterion='entropy', max_depth=3)\n",
    "clf.fit(df, y)\n",
    "\n",
    "\n",
    "fig = plt.figure(figsize=(30,25), dpi=300)\n",
    "tree.plot_tree(clf, filled=True, fontsize = 18, feature_names = df.columns.tolist(), class_names=label_names)\n",
    "# plt.savefig('out.jpeg')\n"
   ]
  },
  {
   "cell_type": "code",
   "execution_count": null,
   "metadata": {
    "pycharm": {
     "name": "#%%\n"
    }
   },
   "outputs": [],
   "source": []
  },
  {
   "cell_type": "code",
   "execution_count": null,
   "metadata": {
    "pycharm": {
     "name": "#%%\n"
    }
   },
   "outputs": [],
   "source": [
    "import matplotlib.pyplot as plt\n",
    "from sklearn import tree\n",
    "# clf = DecisionTreeClassifier(random_state=0, criterion='entropy', max_depth=3)\n",
    "# clf.fit(df, labels)\n",
    "\n",
    "fig = plt.figure(figsize=(30,25), dpi=300)\n",
    "tree.plot_tree(clf.estimators_[0], filled=True, fontsize = 18, feature_names = df.columns.tolist(), class_names=label_names)\n",
    "# plt.savefig('out.jpeg')\n"
   ]
  },
  {
   "cell_type": "code",
   "execution_count": null,
   "metadata": {
    "pycharm": {
     "name": "#%%\n"
    },
    "scrolled": false
   },
   "outputs": [],
   "source": [
    "import matplotlib.pyplot as plt\n",
    "from sklearn import tree\n",
    "# clf = DecisionTreeClassifier(random_state=0, criterion='entropy', max_depth=3)\n",
    "# clf.fit(df, labels)\n",
    "\n",
    "fig = plt.figure(figsize=(30,25), dpi=300)\n",
    "tree.plot_tree(clf.estimators_[0], filled=True, fontsize = 18, feature_names = df.columns.tolist(), class_names=label_names)\n",
    "# plt.savefig('out.jpeg')\n"
   ]
  }
 ],
 "metadata": {
  "kernelspec": {
   "display_name": "Python 3 (ipykernel)",
   "language": "python",
   "name": "python3"
  },
  "language_info": {
   "codemirror_mode": {
    "name": "ipython",
    "version": 3
   },
   "file_extension": ".py",
   "mimetype": "text/x-python",
   "name": "python",
   "nbconvert_exporter": "python",
   "pygments_lexer": "ipython3",
   "version": "3.7.9"
  }
 },
 "nbformat": 4,
 "nbformat_minor": 1
}